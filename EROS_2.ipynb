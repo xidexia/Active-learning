{
 "cells": [
  {
   "cell_type": "code",
   "execution_count": 1,
   "metadata": {
    "collapsed": true
   },
   "outputs": [],
   "source": [
    "import numpy as np\n",
    "import time\n",
    "import math\n",
    "import scipy as sp\n",
    "import pandas as pd\n",
    "import matplotlib.pyplot as plt\n",
    "import cPickle as pickle\n",
    "from sklearn.tree import DecisionTreeClassifier\n",
    "from sklearn.ensemble import RandomForestClassifier, GradientBoostingClassifier \n",
    "from sklearn import svm\n",
    "from sklearn.metrics import confusion_matrix, accuracy_score, mean_squared_error\n",
    "from sklearn.cross_validation import cross_val_score, KFold, train_test_split\n",
    "from sklearn.decomposition import PCA\n",
    "from sklearn.preprocessing import StandardScaler\n",
    "from sklearn import metrics\n",
    "from sklearn.cluster import KMeans\n",
    "from sklearn.cluster import AgglomerativeClustering\n",
    "from sklearn import preprocessing\n",
    "from sklearn import neighbors\n",
    "import random\n",
    "%matplotlib inline "
   ]
  },
  {
   "cell_type": "code",
   "execution_count": 18,
   "metadata": {
    "collapsed": false
   },
   "outputs": [
    {
     "data": {
      "text/html": [
       "<div>\n",
       "<table border=\"1\" class=\"dataframe\">\n",
       "  <thead>\n",
       "    <tr style=\"text-align: right;\">\n",
       "      <th></th>\n",
       "      <th>Amplitude</th>\n",
       "      <th>AndersonDarling</th>\n",
       "      <th>Autocor_length</th>\n",
       "      <th>Beyond1Std</th>\n",
       "      <th>CAR_mean</th>\n",
       "      <th>CAR_sigma</th>\n",
       "      <th>CAR_tau</th>\n",
       "      <th>Color</th>\n",
       "      <th>Con</th>\n",
       "      <th>Eta_color</th>\n",
       "      <th>...</th>\n",
       "      <th>Std</th>\n",
       "      <th>StetsonJ</th>\n",
       "      <th>StetsonK</th>\n",
       "      <th>StetsonK_AC</th>\n",
       "      <th>StetsonL</th>\n",
       "      <th>Class</th>\n",
       "      <th>ID</th>\n",
       "      <th>RA</th>\n",
       "      <th>DEC</th>\n",
       "      <th>Mean Cost</th>\n",
       "    </tr>\n",
       "  </thead>\n",
       "  <tbody>\n",
       "    <tr>\n",
       "      <th>0</th>\n",
       "      <td>0.08050</td>\n",
       "      <td>0.970881</td>\n",
       "      <td>1</td>\n",
       "      <td>0.283154</td>\n",
       "      <td>9.267645</td>\n",
       "      <td>0.041813</td>\n",
       "      <td>1.666029</td>\n",
       "      <td>0.216444</td>\n",
       "      <td>0</td>\n",
       "      <td>1825.803969</td>\n",
       "      <td>...</td>\n",
       "      <td>0.042416</td>\n",
       "      <td>1.523566</td>\n",
       "      <td>0.771010</td>\n",
       "      <td>0.778637</td>\n",
       "      <td>1.028974</td>\n",
       "      <td>1</td>\n",
       "      <td>lm0130l6047</td>\n",
       "      <td>69.87755</td>\n",
       "      <td>-69.23043</td>\n",
       "      <td>1.722083e-17</td>\n",
       "    </tr>\n",
       "    <tr>\n",
       "      <th>1</th>\n",
       "      <td>0.08175</td>\n",
       "      <td>1.000000</td>\n",
       "      <td>1</td>\n",
       "      <td>0.373134</td>\n",
       "      <td>53.154938</td>\n",
       "      <td>-0.114116</td>\n",
       "      <td>0.285270</td>\n",
       "      <td>0.392090</td>\n",
       "      <td>0</td>\n",
       "      <td>1458.708884</td>\n",
       "      <td>...</td>\n",
       "      <td>0.048401</td>\n",
       "      <td>2.543096</td>\n",
       "      <td>0.798770</td>\n",
       "      <td>0.895945</td>\n",
       "      <td>1.989471</td>\n",
       "      <td>1</td>\n",
       "      <td>lm0134k12896</td>\n",
       "      <td>69.97069</td>\n",
       "      <td>-69.83198</td>\n",
       "      <td>3.438798e-17</td>\n",
       "    </tr>\n",
       "    <tr>\n",
       "      <th>2</th>\n",
       "      <td>0.21475</td>\n",
       "      <td>0.992923</td>\n",
       "      <td>1</td>\n",
       "      <td>0.351852</td>\n",
       "      <td>44.787867</td>\n",
       "      <td>-0.284283</td>\n",
       "      <td>0.342989</td>\n",
       "      <td>0.470022</td>\n",
       "      <td>0</td>\n",
       "      <td>21.576843</td>\n",
       "      <td>...</td>\n",
       "      <td>0.119282</td>\n",
       "      <td>6.404891</td>\n",
       "      <td>0.780489</td>\n",
       "      <td>0.827161</td>\n",
       "      <td>4.771433</td>\n",
       "      <td>1</td>\n",
       "      <td>lm0132l17797</td>\n",
       "      <td>70.21114</td>\n",
       "      <td>-69.73800</td>\n",
       "      <td>2.095067e-17</td>\n",
       "    </tr>\n",
       "    <tr>\n",
       "      <th>3</th>\n",
       "      <td>0.26200</td>\n",
       "      <td>1.000000</td>\n",
       "      <td>1</td>\n",
       "      <td>0.432886</td>\n",
       "      <td>59.326615</td>\n",
       "      <td>-0.439332</td>\n",
       "      <td>0.270492</td>\n",
       "      <td>0.396497</td>\n",
       "      <td>0</td>\n",
       "      <td>86.998066</td>\n",
       "      <td>...</td>\n",
       "      <td>0.162663</td>\n",
       "      <td>9.669899</td>\n",
       "      <td>0.842464</td>\n",
       "      <td>0.900790</td>\n",
       "      <td>8.213023</td>\n",
       "      <td>1</td>\n",
       "      <td>lm0130k10679</td>\n",
       "      <td>70.22697</td>\n",
       "      <td>-69.11522</td>\n",
       "      <td>3.773741e-18</td>\n",
       "    </tr>\n",
       "    <tr>\n",
       "      <th>4</th>\n",
       "      <td>0.36800</td>\n",
       "      <td>1.000000</td>\n",
       "      <td>1</td>\n",
       "      <td>0.281250</td>\n",
       "      <td>51.809591</td>\n",
       "      <td>-0.561831</td>\n",
       "      <td>0.333611</td>\n",
       "      <td>0.428027</td>\n",
       "      <td>0</td>\n",
       "      <td>207.132016</td>\n",
       "      <td>...</td>\n",
       "      <td>0.231979</td>\n",
       "      <td>12.127501</td>\n",
       "      <td>0.843455</td>\n",
       "      <td>0.892794</td>\n",
       "      <td>9.736694</td>\n",
       "      <td>1</td>\n",
       "      <td>lm0132n12162</td>\n",
       "      <td>70.36245</td>\n",
       "      <td>-69.63182</td>\n",
       "      <td>1.713454e-19</td>\n",
       "    </tr>\n",
       "  </tbody>\n",
       "</table>\n",
       "<p>5 rows × 69 columns</p>\n",
       "</div>"
      ],
      "text/plain": [
       "   Amplitude  AndersonDarling  Autocor_length  Beyond1Std   CAR_mean  \\\n",
       "0    0.08050         0.970881               1    0.283154   9.267645   \n",
       "1    0.08175         1.000000               1    0.373134  53.154938   \n",
       "2    0.21475         0.992923               1    0.351852  44.787867   \n",
       "3    0.26200         1.000000               1    0.432886  59.326615   \n",
       "4    0.36800         1.000000               1    0.281250  51.809591   \n",
       "\n",
       "   CAR_sigma   CAR_tau     Color  Con    Eta_color      ...            Std  \\\n",
       "0   0.041813  1.666029  0.216444    0  1825.803969      ...       0.042416   \n",
       "1  -0.114116  0.285270  0.392090    0  1458.708884      ...       0.048401   \n",
       "2  -0.284283  0.342989  0.470022    0    21.576843      ...       0.119282   \n",
       "3  -0.439332  0.270492  0.396497    0    86.998066      ...       0.162663   \n",
       "4  -0.561831  0.333611  0.428027    0   207.132016      ...       0.231979   \n",
       "\n",
       "    StetsonJ  StetsonK  StetsonK_AC  StetsonL  Class            ID        RA  \\\n",
       "0   1.523566  0.771010     0.778637  1.028974      1   lm0130l6047  69.87755   \n",
       "1   2.543096  0.798770     0.895945  1.989471      1  lm0134k12896  69.97069   \n",
       "2   6.404891  0.780489     0.827161  4.771433      1  lm0132l17797  70.21114   \n",
       "3   9.669899  0.842464     0.900790  8.213023      1  lm0130k10679  70.22697   \n",
       "4  12.127501  0.843455     0.892794  9.736694      1  lm0132n12162  70.36245   \n",
       "\n",
       "        DEC     Mean Cost  \n",
       "0 -69.23043  1.722083e-17  \n",
       "1 -69.83198  3.438798e-17  \n",
       "2 -69.73800  2.095067e-17  \n",
       "3 -69.11522  3.773741e-18  \n",
       "4 -69.63182  1.713454e-19  \n",
       "\n",
       "[5 rows x 69 columns]"
      ]
     },
     "execution_count": 18,
     "metadata": {},
     "output_type": "execute_result"
    }
   ],
   "source": [
    "#a = pd.read_csv('/Users/xidexia/Desktop/eros.csv',index_col=0)\n",
    "#a = pd.read_csv('/Users/xidexia/Desktop/299/log/readdata/cost_data_69.csv',index_col=0)\n",
    "a = pd.read_csv('/Users/xidexia/Desktop/299/try code/neweros_radec_0921.csv',index_col=0)\n",
    "\n",
    "a = a.dropna()\n",
    "a.head()"
   ]
  },
  {
   "cell_type": "code",
   "execution_count": 19,
   "metadata": {
    "collapsed": false
   },
   "outputs": [
    {
     "data": {
      "text/plain": [
       "(8317, 69)"
      ]
     },
     "execution_count": 19,
     "metadata": {},
     "output_type": "execute_result"
    }
   ],
   "source": [
    "a.shape"
   ]
  },
  {
   "cell_type": "code",
   "execution_count": 21,
   "metadata": {
    "collapsed": false
   },
   "outputs": [],
   "source": [
    "features = a.columns[0:64]\n",
    "Y_all = np.array([int(a['Class'][i]) for i in xrange(8317  )])"
   ]
  },
  {
   "cell_type": "code",
   "execution_count": 22,
   "metadata": {
    "collapsed": false
   },
   "outputs": [
    {
     "data": {
      "text/plain": [
       "(array([  829.,  1500.,  1114.,     0.,  1500.,  1500.,     0.,   251.,\n",
       "         1500.,   123.]),\n",
       " array([ 0. ,  0.7,  1.4,  2.1,  2.8,  3.5,  4.2,  4.9,  5.6,  6.3,  7. ]),\n",
       " <a list of 10 Patch objects>)"
      ]
     },
     "execution_count": 22,
     "metadata": {},
     "output_type": "execute_result"
    },
    {
     "data": {
      "image/png": "[encoded data removed]",
      "text/plain": [
       "<matplotlib.figure.Figure at 0x103fccf10>"
      ]
     },
     "metadata": {},
     "output_type": "display_data"
    }
   ],
   "source": [
    "plt.hist(Y_all)"
   ]
  },
  {
   "cell_type": "code",
   "execution_count": 23,
   "metadata": {
    "collapsed": false
   },
   "outputs": [],
   "source": [
    "X_all = np.array(a)"
   ]
  },
  {
   "cell_type": "code",
   "execution_count": 24,
   "metadata": {
    "collapsed": false
   },
   "outputs": [
    {
     "data": {
      "text/plain": [
       "(8317, 69)"
      ]
     },
     "execution_count": 24,
     "metadata": {},
     "output_type": "execute_result"
    }
   ],
   "source": [
    "X_all.shape"
   ]
  },
  {
   "cell_type": "code",
   "execution_count": 25,
   "metadata": {
    "collapsed": false
   },
   "outputs": [],
   "source": [
    "Xr, Xt, yr, yt = train_test_split(X_all, Y_all, train_size=6000, test_size=2317, random_state=42)\n",
    "Xinit, Xsearch, yinit, ysearch = train_test_split(Xr, yr, train_size=20, test_size=2397, random_state=42)\n",
    "\n",
    "Xinit_copy = Xinit\n",
    "Xsearch_copy = Xsearch\n",
    "Xr_copy = Xr\n",
    "Xt_copy = Xt\n",
    "\n",
    "yinit_copy = yinit\n",
    "ysearch_copy = ysearch\n",
    "yr_copy = yr\n",
    "yt_copy = yt\n"
   ]
  },
  {
   "cell_type": "code",
   "execution_count": 26,
   "metadata": {
    "collapsed": false
   },
   "outputs": [],
   "source": [
    "Xr, Xt, yr, yt = train_test_split(X_all, Y_all, train_size=2000, test_size=1057, random_state=42)\n",
    "Xinit, Xsearch, yinit, ysearch = train_test_split(Xr, yr, train_size=20, test_size=1037, random_state=42)\n",
    "\n",
    "Xinit_copy = Xinit\n",
    "Xsearch_copy = Xsearch\n",
    "Xr_copy = Xr\n",
    "Xt_copy = Xt\n",
    "\n",
    "yinit_copy = yinit\n",
    "ysearch_copy = ysearch\n",
    "yr_copy = yr\n",
    "yt_copy = yt\n"
   ]
  },
  {
   "cell_type": "code",
   "execution_count": 27,
   "metadata": {
    "collapsed": false
   },
   "outputs": [
    {
     "data": {
      "text/plain": [
       "<matplotlib.collections.PathCollection at 0x10b211550>"
      ]
     },
     "execution_count": 27,
     "metadata": {},
     "output_type": "execute_result"
    },
    {
     "data": {
      "image/png": "[encoded data removed]",
      "text/plain": [
       "<matplotlib.figure.Figure at 0x10a597190>"
      ]
     },
     "metadata": {},
     "output_type": "display_data"
    }
   ],
   "source": [
    "plt.figure(figsize = [10,3])\n",
    "plt.subplot(1,2,1)\n",
    "plt.scatter(a['RA'],a['DEC'])"
   ]
  },
  {
   "cell_type": "markdown",
   "metadata": {},
   "source": [
    "### Tools"
   ]
  },
  {
   "cell_type": "code",
   "execution_count": 28,
   "metadata": {
    "collapsed": true
   },
   "outputs": [],
   "source": [
    "def kmeans_labels(data,k=10):\n",
    "    kmeans = KMeans(init='k-means++', n_clusters=k, n_init=10)\n",
    "    kmeans.fit(data)\n",
    "    center_list = kmeans.cluster_centers_\n",
    "    return kmeans.labels_.tolist(), center_list\n",
    "\n",
    "def plot_with_errbars(N, data):\n",
    "    x = np.arange(N)\n",
    "    mean = np.nanmean(data, axis=0)\n",
    "    std = np.nanstd(data, axis=0)\n",
    "    valid = ~np.isnan(mean)\n",
    "    plt.fill_between(x[valid], (mean-2*std)[valid], (mean+2*std)[valid], color='#d0d0d0')\n",
    "    plt.plot(x[valid], mean[valid])\n",
    "# return the pair with longest distrance in a batch of samples\n",
    "def angular_distance_N_whole_length(X):\n",
    "    temp = np.zeros((X.shape[0],X.shape[0]))\n",
    "    for i in xrange(X.shape[0]):\n",
    "        for j in xrange(X.shape[0]):\n",
    "            temp[i][j] = angular_distance_2_whole_length(X[i], X[j])\n",
    "    indices = np.where( temp == temp.max() )\n",
    "    return temp.max(),indices[0][0] ,indices[1][0] \n",
    "\n",
    "def angular_distance_2_whole_length(X1, X2):\n",
    "    r1 = X1[-3]\n",
    "    d1 = X1[-2]\n",
    "    r2 = X2[-3]\n",
    "    d2 = X2[-2]\n",
    "    return math.sqrt(math.pow((r1-r2)*math.cos((d1+d2)/2),2)+(d1-d2)*(d1-d2))\n",
    "\n",
    "def euclidean_distance_2_whole_length(X1, X2):\n",
    "    r1 = X1[-3]\n",
    "    d1 = X1[-2]\n",
    "    r2 = X2[-3]\n",
    "    d2 = X2[-2]\n",
    "    return math.sqrt((r1-r2)*(r1-r2)+(d1-d2)*(d1-d2))\n",
    "\n",
    "def angular_distance_2_ra_dec(X1, X2):\n",
    "    r1 = X1[0]\n",
    "    d1 = X1[1]\n",
    "    r2 = X2[0]\n",
    "    d2 = X2[1]\n",
    "    return math.sqrt(math.pow((r1-r2)*math.cos((d1+d2)/2),2)+(d1-d2)*(d1-d2))\n",
    "    \n",
    "def euclidean_distance_2_ra_dec(X1,X2):\n",
    "    r1 = X1[0]\n",
    "    d1 = X1[1]\n",
    "    r2 = X2[0]\n",
    "    d2 = X2[1]\n",
    "    return math.sqrt((r1-r2)*(r1-r2)+(d1-d2)*(d1-d2))\n",
    "\n",
    "def get_uncertainty_by_ranfom_forest(Xinit,yinit,Xsearch,Xt,yt, uncertainty_thred, uncertainty_size=1000):\n",
    "    clf_v2_random_forest = RandomForestClassifier(n_estimators=100)\n",
    "    clf_v2_random_forest.fit(Xinit[:,:-5], yinit)\n",
    "\n",
    "    max_test_rf_est_list = clf_v2_random_forest.predict_proba(Xsearch[:,:-5]).max(axis=1)\n",
    "    uncertainty_idx_list = np.flatnonzero(max_test_rf_est_list)\n",
    "    return np.unique(uncertainty_idx_list), 1-max_test_rf_est_list[uncertainty_idx_list], clf_v2_random_forest.score(Xt[:,:-5], yt)\n",
    "\n",
    "\n",
    "def pointing_by_object_whole_length(Xc,radius):            \n",
    "    a = []\n",
    "    if Xc.shape[0]==0: return a\n",
    "    kdtree = neighbors.KDTree(Xc[:,-3:-1], leaf_size=2)  \n",
    "    for i in xrange(Xc.shape[0]):\n",
    "        b = kdtree.query_radius(Xc[i,-3:-1], r=2*radius)[0]\n",
    "        temp=[]\n",
    "        for j in xrange(b.shape[0]):\n",
    "            if angular_distance_2_whole_length(Xc[i], Xc[b[j]])<radius: temp.append(b[j])\n",
    "        a.append(temp)\n",
    "    return a\n",
    "\n",
    "   \n",
    "    \n",
    "def select_N_pointing_w_max(total_score_normalized, N):\n",
    "    return total_score_normalized.argsort()[-N:]\n",
    "\n",
    "def unique0(a):\n",
    "    num = a.shape[0]\n",
    "    a_u = []\n",
    "    a_u.append(a[0])\n",
    "    u = [0]\n",
    "    for i in xrange(1,num):\n",
    "        flag = 0\n",
    "        for j in xrange(len(a_u)):\n",
    "            if np.array(a[i]).all()==np.array(a_u[j]).all(): \n",
    "                flag=1\n",
    "                break\n",
    "        if flag==0: \n",
    "            a_u.append(a[i])\n",
    "            u.append(i)\n",
    "    return np.array(a_u),u\n",
    "\n",
    "def pointing_by_object_whole_length_w_randomness(Xc,radius):            \n",
    "    a = []\n",
    "    if Xc.shape[0]==0: return a\n",
    "    kdtree = neighbors.KDTree(Xc[:,-3:-1], leaf_size=2)  \n",
    "    for i in xrange(Xc.shape[0]):\n",
    "        theta = random.random()*math.pi*2\n",
    "        det_ra = math.cos(theta)*0.1*radius\n",
    "        det_dec = math.sin(theta)*0.1*radius\n",
    "        \n",
    "        b = kdtree.query_radius([Xc[i,-3]+det_ra, Xc[i,-2]+det_dec], r=2*radius)[0]\n",
    "        temp=[]\n",
    "        for j in xrange(b.shape[0]):\n",
    "            if angular_distance_2_ra_dec([Xc[i,-3]+det_ra, Xc[i,-2]+det_dec], Xc[b[j],-3:-1])<radius: temp.append(b[j])\n",
    "        a.append(temp)\n",
    "    return a\n",
    "\n",
    "init_temp, thermostat,reannealing,itol =10.0, 0.95, 10,5000\n",
    "\n",
    "def simulating_annealing(dom, Xc, idx_prev,score_prev,pointing_table,init_temp, thermostat,reannealing,itol):\n",
    "    m=10000     \n",
    "    temperature = init_temp   \n",
    "\n",
    "    it = 0                    \n",
    "    # number of iterations\n",
    "    atp=0\n",
    "\n",
    "    while it >=0:\n",
    "        idx_cand = random.randint(0,len(pointing_table)-1)\n",
    "        b = random.randint(0,1)\n",
    "        idx_remain = idx_prev[b]\n",
    "        x = score_2_pointing(Xc, pointing_table,idx_remain,idx_cand, dom,mag_thred=0.85)\n",
    "        score_new = x[0].sum()   \n",
    "        time_new = x[1]\n",
    "\n",
    "        if score_prev < score_new:\n",
    "            idx_prev = [idx_remain , idx_cand]\n",
    "            score_prev = score_new \n",
    "            it = it+1\n",
    "\n",
    "        elif np.random.rand() < np.exp( -abs(score_prev-score_new)/temperature):\n",
    "            idx_prev = [idx_remain , idx_cand]\n",
    "            score_prev = score_new \n",
    "            it = it+1\n",
    "        atp =atp +1;  # NUMBER OF ITERATIONS\n",
    "\n",
    "        # check if it is time to cool down\n",
    "        if it % reannealing == 0:\n",
    "            temperature = thermostat * temperature;\n",
    "            #temperature =  temperature/log(it);\n",
    "            compl_temp=0;\n",
    "            #if we get too cold, reheat\n",
    "            if temperature < 0.01:\n",
    "                temperature = 1\n",
    "        if atp >itol: break\n",
    "    return idx_prev,score_prev, time_new\n",
    "\n",
    "def data_dist_2_center_normal(pca_data,diversity_label_list,center_list,num_kmean_class):\n",
    "    data_dist_list = []\n",
    "    for i in xrange(pca_data.shape[0]):\n",
    "        data_dist_list.append(feature_distance(pca_data[i], center_list[diversity_label_list[i]]))\n",
    "    data_dist_list =  np.array(data_dist_list)\n",
    "\n",
    "    for i in xrange(num_kmean_class):        \n",
    "        #print np.array(diversity_label_list)==i\n",
    "        temp_max = max(data_dist_list[np.array(diversity_label_list)==i])\n",
    "        if temp_max >0:\n",
    "            data_dist_list[np.array(diversity_label_list)==i] = data_dist_list[np.array(diversity_label_list)==i]/temp_max\n",
    "    return data_dist_list\n",
    "\n",
    "def feature_distance(x1,x2):\n",
    "    det = x1-x2\n",
    "    s =0\n",
    "    for i in xrange(det.shape[0]):\n",
    "        s += det[i]*det[i]\n",
    "    return math.sqrt(s)\n",
    "\n",
    "def cluster_obj_and_score_tabel_mean(label_list,obj_uncertainty_score_list,n_cluster):\n",
    "    cluster_obj_table = []\n",
    "    cluster_score_table = []\n",
    "    for i in xrange(n_cluster):\n",
    "        #print np.array(label_list) \n",
    "        idx_tmp = np.where(np.array(label_list) == i)\n",
    "        #print idx_tmp\n",
    "        cluster_score_tmp = obj_uncertainty_score_list[idx_tmp].mean()\n",
    "        cluster_obj_table.append(idx_tmp)\n",
    "        cluster_score_table.append(cluster_score_tmp)\n",
    "    return cluster_obj_table, cluster_score_table\n",
    "\n",
    "def cluster_obj_and_score_tabel_sum(label_list,obj_uncertainty_score_list,n_cluster):\n",
    "    cluster_obj_table = []\n",
    "    cluster_score_table = []\n",
    "    for i in xrange(n_cluster):\n",
    "        #print np.array(label_list) \n",
    "        idx_tmp = np.where(np.array(label_list) == i)\n",
    "        #print idx_tmp\n",
    "        cluster_score_tmp = obj_uncertainty_score_list[idx_tmp].sum()\n",
    "        cluster_obj_table.append(idx_tmp)\n",
    "        cluster_score_table.append(cluster_score_tmp)\n",
    "    return cluster_obj_table, cluster_score_table\n",
    "\n",
    "# merger multiple poitings\n",
    "def combined_pointing_score_list(Xc, pointing_table, first_pointing_idx, mag_thred=0.85):\n",
    "    previous_obj = pointing_table[first_pointing_idx]\n",
    "    previous_time = np.sort(Xc[previous_obj,-1])[int(len(previous_obj)*mag_thred)-1]\n",
    "    b = []\n",
    "    for i in xrange(len(pointing_table)):  \n",
    "        if i == first_pointing_idx: i +=1\n",
    "        if i>=len(pointing_table): break\n",
    "        cand_temp = pointing_table[i]\n",
    "        time_temp = np.sort(Xc[cand_temp,-1])[int(len(cand_temp)*mag_thred)-1] + previous_time\n",
    "        combined_temp = np.unique(cand_temp + previous_obj).tolist()\n",
    "        a = single_pointing_score_thred(cluster_score_table, data_dist_list,combined_temp, diversity_label_list, uncertainty_score_list, Xc, mag_thred=0.85)\n",
    "        b.append([a[0],a[1],time_temp])\n",
    "    return np.array(b)\n",
    "\n",
    "def score_2_pointing(Xc, pointing_table, idx1,idx2, dom, mag_thred=0.85):\n",
    "    p1 = pointing_table[idx1]\n",
    "    time1 = np.sort(Xc[p1,-1])[int(len(p1)*mag_thred)-1]\n",
    "    \n",
    "    p2 = pointing_table[idx2]\n",
    "    time2 = np.sort(Xc[p2,-1])[int(len(p2)*mag_thred)-1]\n",
    "    b = []\n",
    "    combined_temp = np.unique(p1 + p2).tolist()\n",
    "    a = single_pointing_score_thred(cluster_score_table, data_dist_list,combined_temp, diversity_label_list, uncertainty_score_list, Xc, mag_thred=0.85)\n",
    "    b.append([a[0]/dom[0],a[1]/dom[1],(time1+time2)/dom[2]])\n",
    "    return [np.array(b), time1+time2]\n",
    "\n",
    "def pointing_score_list(cluster_score_table, data_dist_list, pointing_table, diversity_label_list, uncertainty_score_list, Xc, mag_thred=0.85):\n",
    "    num_pointing = len(pointing_table)\n",
    "    score_list = np.zeros((num_pointing,3))\n",
    "    for i in xrange(num_pointing):\n",
    "        temp_pointing = pointing_table[i]\n",
    "        Su_temp, Sd_temp, Sm_temp, label_covered = single_pointing_score_thred(cluster_score_table,data_dist_list,temp_pointing, diversity_label_list, uncertainty_score_list, Xc, mag_thred=0.85)\n",
    "        score_list[i][0] = Su_temp\n",
    "        score_list[i][1] = Sd_temp\n",
    "        score_list[i][2] = Sm_temp\n",
    "    return score_list\n",
    "\n",
    "# compute the final selection score\n",
    "def score_normalization(score_list):\n",
    "    score_list_normalized = score_list.copy()\n",
    "    score_list_normalized[:,0] = score_list[:,0]/score_list[:,0].max()    \n",
    "    score_list_normalized[:,1] = score_list[:,1]/score_list[:,1].max()    \n",
    "    score_list_normalized[:,2] = score_list[:,2]/score_list[:,2].max()   \n",
    "    total_score_normalized = score_list_normalized.sum(axis=1)\n",
    "    return score_list_normalized, total_score_normalized, [score_list[:,0].max(),score_list[:,1].max(),score_list[:,2].max()]\n",
    " \n",
    "    \n",
    "    \n",
    "def single_pointing_score_thred(cluster_score_table, data_dist_list, temp_pointing, diversity_label_list, uncertainty_score_list, Xc, mag_thred=0.85):\n",
    "    mag_thred_value = np.sort(Xc[temp_pointing,-1])[int(len(temp_pointing)*mag_thred)-1]\n",
    "    qualified_list = np.array(temp_pointing)[Xc[temp_pointing,-1] <= mag_thred_value]\n",
    "    qualified_list_label = np.array(diversity_label_list)[qualified_list]\n",
    "    label_covered = np.unique(np.array(diversity_label_list)[qualified_list])\n",
    "    \n",
    "    diversity_score_temp = 0\n",
    "    for i in label_covered:\n",
    "        min_dist_temp =  min(data_dist_list[qualified_list[qualified_list_label==i]])\n",
    "        diversity_score_temp += math.exp(-min_dist_temp)\n",
    "\n",
    "    #diversity_score_temp = label_covered.shape[0]\n",
    "   \n",
    "    uncertainty_score_temp = sum(np.array(cluster_score_table)[label_covered])\n",
    "    #uncertainty_score_temp = uncertainty_score_list[qualified_list].sum()\n",
    "    return uncertainty_score_temp, diversity_score_temp, mag_thred_value, label_covered.tolist()"
   ]
  },
  {
   "cell_type": "code",
   "execution_count": 29,
   "metadata": {
    "collapsed": false
   },
   "outputs": [],
   "source": [
    "def data_dist_2_center_normal(pca_data,diversity_label_list,center_list,num_kmean_class):\n",
    "    data_dist_list = []\n",
    "    for i in xrange(pca_data.shape[0]):\n",
    "        data_dist_list.append(feature_distance(pca_data[i], center_list[diversity_label_list[i]]))\n",
    "    data_dist_list =  np.array(data_dist_list)\n",
    "    #print num_kmean_class\n",
    "    for i in xrange(num_kmean_class):        \n",
    "        #print np.array(diversity_label_list)\n",
    "        if i in np.array(diversity_label_list):\n",
    "            temp_max = max(data_dist_list[np.array(diversity_label_list)==i])\n",
    "            if temp_max >0:\n",
    "                data_dist_list[np.array(diversity_label_list)==i] = data_dist_list[np.array(diversity_label_list)==i]/temp_max\n",
    "    return data_dist_list"
   ]
  },
  {
   "cell_type": "code",
   "execution_count": null,
   "metadata": {
    "collapsed": true
   },
   "outputs": [],
   "source": []
  },
  {
   "cell_type": "code",
   "execution_count": null,
   "metadata": {
    "collapsed": true
   },
   "outputs": [],
   "source": []
  },
  {
   "cell_type": "markdown",
   "metadata": {},
   "source": [
    "### Test\n",
    "####mean"
   ]
  },
  {
   "cell_type": "code",
   "execution_count": 30,
   "metadata": {
    "collapsed": true
   },
   "outputs": [],
   "source": [
    "initial_size = 20\n",
    "num_pic = 10\n",
    "num_kmean_class = 20\n",
    "\n",
    "num_loops =5\n",
    "N=15\n",
    "degree_list=[0.1, 0.2,0.4,0.6,0.8]\n",
    "#degree_list=[0.1]\n",
    "\n",
    "num_deg = len(degree_list)\n",
    "uncertainty_thred=1\n",
    "\n",
    "acc_list_rf_best_mean = np.zeros((num_deg,num_loops,N))\n",
    "time_cost_list_rf_best_mean = np.zeros((num_deg,num_loops,N))"
   ]
  },
  {
   "cell_type": "code",
   "execution_count": 31,
   "metadata": {
    "collapsed": false,
    "scrolled": true
   },
   "outputs": [
    {
     "name": "stdout",
     "output_type": "stream",
     "text": [
      "degree=  0.1\n",
      "j=  0\n",
      "i= 0\n",
      "i= 10\n",
      "j=  1\n",
      "i= 0\n",
      "i= 10\n",
      "j=  2\n",
      "i= 0\n",
      "i= 10\n",
      "j=  3\n",
      "i= 0\n",
      "i= 10\n",
      "j=  4\n",
      "i= 0\n",
      "i= 10\n",
      "degree=  0.2\n",
      "j=  0\n",
      "i= 0\n",
      "i= 10\n",
      "j=  1\n",
      "i= 0\n",
      "i= 10\n",
      "j=  2\n",
      "i= 0\n",
      "i= 10\n",
      "j=  3\n",
      "i= 0\n",
      "i= 10\n",
      "j=  4\n",
      "i= 0\n",
      "i= 10\n",
      "degree=  0.4\n",
      "j=  0\n",
      "i= 0\n",
      "i= 10\n",
      "j=  1\n",
      "i= 0\n",
      "i= 10\n",
      "j=  2\n",
      "i= 0\n",
      "i= 10\n",
      "j=  3\n",
      "i= 0\n",
      "i= 10\n",
      "j=  4\n",
      "i= 0\n",
      "i= 10\n",
      "degree=  0.6\n",
      "j=  0\n",
      "i= 0\n",
      "i= 10\n",
      "j=  1\n",
      "i= 0\n",
      "i= 10\n",
      "j=  2\n",
      "i= 0\n",
      "i= 10\n",
      "j=  3\n",
      "i= 0\n",
      "i= 10\n",
      "j=  4\n",
      "i= 0\n",
      "i= 10\n",
      "degree=  0.8\n",
      "j=  0\n",
      "i= 0\n",
      "i= 10\n",
      "j=  1\n",
      "i= 0\n",
      "i= 10\n",
      "j=  2\n",
      "i= 0\n",
      "i= 10\n",
      "j=  3\n",
      "i= 0\n",
      "i= 10\n",
      "j=  4\n",
      "i= 0\n",
      "i= 10\n",
      "Time Elapsed: 244.016042948\n"
     ]
    }
   ],
   "source": [
    "begin = time.time()\n",
    "\n",
    "for dk in xrange(num_deg):\n",
    "    degree = degree_list[dk]\n",
    "    print \"degree= \", degree\n",
    "    for j in xrange(num_loops):\n",
    "        print \"j= \",j\n",
    "        Xsearch = Xsearch_copy\n",
    "        ysearch = ysearch_copy \n",
    "        \n",
    "        Xinit = Xinit_copy\n",
    "        yinit = yinit_copy \n",
    "        \n",
    "        Xt = Xt_copy\n",
    "        yt = yt_copy \n",
    "        \n",
    "        Xlabel = Xinit\n",
    "        ylabel = yinit\n",
    "        \n",
    "        uncertainty_idx_list,uncertainty_score_list,acc_temp = get_uncertainty_by_ranfom_forest(Xinit,yinit,Xsearch,Xt,yt, uncertainty_thred=1)\n",
    "        \n",
    "        acc_list_rf_best_mean[dk,j,0] = acc_temp\n",
    "        time_cost_list_rf_best_mean[dk,j,0] = 0\n",
    "\n",
    "        # remain list (high certainty)\n",
    "        Xre = np.delete(Xsearch,uncertainty_idx_list,0)\n",
    "        yre = np.delete(np.array(ysearch),uncertainty_idx_list,0)\n",
    "\n",
    "        for i in xrange(N-1):\n",
    "            if i%10==0: print \"i=\", i\n",
    "            if(Xsearch.shape[0] < num_kmean_class): break\n",
    "            pca_data = PCA(n_components=10).fit_transform(Xsearch[:,:-5]) \n",
    "            diversity_label_list, center_list = kmeans_labels(pca_data,num_kmean_class)\n",
    "            #print np.unique(diversity_label_list)\n",
    "\n",
    "            \n",
    "            data_dist_list = data_dist_2_center_normal(pca_data,diversity_label_list,center_list,num_kmean_class)\n",
    "\n",
    "            pointing_table = pointing_by_object_whole_length_w_randomness(Xsearch,degree)\n",
    "            \n",
    "            cluster_obj_table, cluster_score_table = cluster_obj_and_score_tabel_mean(diversity_label_list,uncertainty_score_list,num_kmean_class)\n",
    "            score_list = pointing_score_list(cluster_score_table,data_dist_list,pointing_table, diversity_label_list, uncertainty_score_list, Xsearch, mag_thred=0.85)\n",
    "            \n",
    "            #print score_list\n",
    "            score_list_normalized, total_score_normalized,dom = score_normalization(score_list)\n",
    "            first_pointing_idx = select_N_pointing_w_max(total_score_normalized, 1)\n",
    "            \n",
    "            combined_score_list = combined_pointing_score_list(Xsearch, pointing_table, first_pointing_idx, mag_thred=0.85)\n",
    "            score_list_normalized, total_score_normalized,dom = score_normalization(combined_score_list)\n",
    "            second_pointing_idx = select_N_pointing_w_max(total_score_normalized, 1)\n",
    "            score_prev = total_score_normalized[second_pointing_idx][0]\n",
    "            idx_prev = [first_pointing_idx[0], second_pointing_idx[0]]\n",
    "            \n",
    "            idx_new,score_new,time_new = simulating_annealing(dom, Xsearch,idx_prev,score_prev,pointing_table,10.0, 0.95, 10,1000)\n",
    "            \n",
    "            selected_obj_list = np.unique(pointing_table[idx_new[0]]+pointing_table[idx_new[1]])\n",
    "            \n",
    "            X_selected = Xsearch[selected_obj_list]\n",
    "            y_selected = ysearch[selected_obj_list]\n",
    "\n",
    "\n",
    "            Xlabel = np.vstack((Xlabel,X_selected))   \n",
    "            ylabel = np.append(ylabel,y_selected)\n",
    "\n",
    "            Xsearch = np.delete(np.array(Xsearch),selected_obj_list,0)\n",
    "            ysearch = np.delete(np.array(ysearch),selected_obj_list,0)\n",
    "            if(Xsearch.shape[0] < num_kmean_class): break\n",
    "\n",
    "\n",
    "            uncertainty_idx_list,uncertainty_score_list,acc_temp = get_uncertainty_by_ranfom_forest(Xlabel,ylabel,Xsearch,Xt,yt, uncertainty_thred=1)\n",
    "            acc_list_rf_best_mean[dk,j,i+1] = acc_temp\n",
    "            time_cost_list_rf_best_mean[dk,j,i+1] = time_new\n",
    "            \n",
    "            \n",
    "print 'Time Elapsed:', time.time()-begin "
   ]
  },
  {
   "cell_type": "code",
   "execution_count": 32,
   "metadata": {
    "collapsed": false
   },
   "outputs": [
    {
     "data": {
      "text/plain": [
       "[<matplotlib.lines.Line2D at 0x10b418610>]"
      ]
     },
     "execution_count": 32,
     "metadata": {},
     "output_type": "execute_result"
    },
    {
     "data": {
      "image/png": "[encoded data removed]",
      "text/plain": [
       "<matplotlib.figure.Figure at 0x10a66c590>"
      ]
     },
     "metadata": {},
     "output_type": "display_data"
    }
   ],
   "source": [
    "plt.plot(acc_list_rf_best_mean[0].mean(axis=0),c='r')\n",
    "plt.plot(acc_list_rf_best_mean[1].mean(axis=0),c='g')\n",
    "plt.plot(acc_list_rf_best_mean[2].mean(axis=0),c='b')\n"
   ]
  },
  {
   "cell_type": "markdown",
   "metadata": {},
   "source": [
    "####sum"
   ]
  },
  {
   "cell_type": "code",
   "execution_count": 33,
   "metadata": {
    "collapsed": true
   },
   "outputs": [],
   "source": [
    "initial_size = 20\n",
    "num_pic = 10\n",
    "num_kmean_class = 20\n",
    "\n",
    "num_loops =5\n",
    "N=15\n",
    "degree_list=[0.1, 0.2,0.4,0.6,0.8]\n",
    "#degree_list=[0.2, 0.6,0.8,1.2]\n",
    "#degree_list=[1.0]\n",
    "\n",
    "num_deg = len(degree_list)\n",
    "uncertainty_thred=1\n",
    "\n",
    "acc_list_rf_best_sum = np.zeros((num_deg,num_loops,N))\n",
    "time_cost_list_rf_best_sum = np.zeros((num_deg,num_loops,N))"
   ]
  },
  {
   "cell_type": "code",
   "execution_count": 34,
   "metadata": {
    "collapsed": false
   },
   "outputs": [
    {
     "name": "stdout",
     "output_type": "stream",
     "text": [
      "degree=  0.1\n",
      "j=  0\n",
      "i= 0\n",
      "j=  1\n",
      "i= 0\n",
      "j=  2\n",
      "i= 0\n",
      "j=  3\n",
      "i= 0\n",
      "j=  4\n",
      "i= 0\n",
      "degree=  0.2\n",
      "j=  0\n",
      "i= 0\n",
      "j=  1\n",
      "i= 0\n",
      "j=  2\n",
      "i= 0\n",
      "j=  3\n",
      "i= 0\n",
      "j=  4\n",
      "i= 0\n",
      "degree=  0.4\n",
      "j=  0\n",
      "i= 0\n",
      "j=  1\n",
      "i= 0\n",
      "j=  2\n",
      "i= 0\n",
      "j=  3\n",
      "i= 0\n",
      "j=  4\n",
      "i= 0\n",
      "degree=  0.6\n",
      "j=  0\n",
      "i= 0\n",
      "j=  1\n",
      "i= 0\n",
      "j=  2\n",
      "i= 0\n",
      "j=  3\n",
      "i= 0\n",
      "j=  4\n",
      "i= 0\n",
      "degree=  0.8\n",
      "j=  0\n",
      "i= 0\n",
      "j=  1\n",
      "i= 0\n",
      "j=  2\n",
      "i= 0\n",
      "j=  3\n",
      "i= 0\n",
      "j=  4\n",
      "i= 0\n",
      "Time Elapsed: 234.386622906\n"
     ]
    }
   ],
   "source": [
    "begin = time.time()\n",
    "\n",
    "for dk in xrange(num_deg):\n",
    "    degree = degree_list[dk]\n",
    "    print \"degree= \", degree\n",
    "    for j in xrange(num_loops):\n",
    "        print \"j= \",j\n",
    "        Xsearch = Xsearch_copy\n",
    "        ysearch = ysearch_copy \n",
    "        \n",
    "        Xinit = Xinit_copy\n",
    "        yinit = yinit_copy \n",
    "        \n",
    "        Xt = Xt_copy\n",
    "        yt = yt_copy \n",
    "        \n",
    "        Xlabel = Xinit\n",
    "        ylabel = yinit\n",
    "        \n",
    "        uncertainty_idx_list,uncertainty_score_list,acc_temp = get_uncertainty_by_ranfom_forest(Xinit,yinit,Xsearch,Xt,yt, uncertainty_thred=1)\n",
    "        \n",
    "        acc_list_rf_best_sum[dk,j,0] = acc_temp\n",
    "        time_cost_list_rf_best_sum[dk,j,0] = 0\n",
    "\n",
    "        # remain list (high certainty)\n",
    "        Xre = np.delete(Xsearch,uncertainty_idx_list,0)\n",
    "        yre = np.delete(np.array(ysearch),uncertainty_idx_list,0)\n",
    "\n",
    "        for i in xrange(N-1):\n",
    "            if i%20==0: print \"i=\", i\n",
    "            if(Xsearch.shape[0] < num_kmean_class): break\n",
    "            pca_data = PCA(n_components=10).fit_transform(Xsearch[:,:-5]) \n",
    "            diversity_label_list, center_list = kmeans_labels(pca_data,num_kmean_class)\n",
    "            #print np.unique(diversity_label_list)\n",
    "\n",
    "            \n",
    "            data_dist_list = data_dist_2_center_normal(pca_data,diversity_label_list,center_list,num_kmean_class)\n",
    "\n",
    "            pointing_table = pointing_by_object_whole_length_w_randomness(Xsearch,degree)\n",
    "            \n",
    "            cluster_obj_table, cluster_score_table = cluster_obj_and_score_tabel_sum(diversity_label_list,uncertainty_score_list,num_kmean_class)\n",
    "            score_list = pointing_score_list(cluster_score_table,data_dist_list,pointing_table, diversity_label_list, uncertainty_score_list, Xsearch, mag_thred=0.85)\n",
    "            \n",
    "            #print score_list\n",
    "            score_list_normalized, total_score_normalized,dom = score_normalization(score_list)\n",
    "            first_pointing_idx = select_N_pointing_w_max(total_score_normalized, 1)\n",
    "            \n",
    "            combined_score_list = combined_pointing_score_list(Xsearch, pointing_table, first_pointing_idx, mag_thred=0.85)\n",
    "            score_list_normalized, total_score_normalized,dom = score_normalization(combined_score_list)\n",
    "            second_pointing_idx = select_N_pointing_w_max(total_score_normalized, 1)\n",
    "            score_prev = total_score_normalized[second_pointing_idx][0]\n",
    "            idx_prev = [first_pointing_idx[0], second_pointing_idx[0]]\n",
    "            \n",
    "            idx_new,score_new,time_new = simulating_annealing(dom, Xsearch,idx_prev,score_prev,pointing_table,10.0, 0.95, 10,1000)\n",
    "            \n",
    "            selected_obj_list = np.unique(pointing_table[idx_new[0]]+pointing_table[idx_new[1]])\n",
    "            \n",
    "            X_selected = Xsearch[selected_obj_list]\n",
    "            y_selected = ysearch[selected_obj_list]\n",
    "\n",
    "            Xlabel = np.vstack((Xlabel,X_selected))   \n",
    "            ylabel = np.append(ylabel,y_selected)\n",
    "\n",
    "            Xsearch = np.delete(np.array(Xsearch),selected_obj_list,0)\n",
    "            ysearch = np.delete(np.array(ysearch),selected_obj_list,0)\n",
    "            if(Xsearch.shape[0] < num_kmean_class): break\n",
    "\n",
    "\n",
    "            uncertainty_idx_list,uncertainty_score_list,acc_temp = get_uncertainty_by_ranfom_forest(Xlabel,ylabel,Xsearch,Xt,yt, uncertainty_thred=1)\n",
    "            acc_list_rf_best_sum[dk,j,i+1] = acc_temp\n",
    "            time_cost_list_rf_best_sum[dk,j,i+1] = time_new\n",
    "            \n",
    "            \n",
    "print 'Time Elapsed:', time.time()-begin "
   ]
  },
  {
   "cell_type": "code",
   "execution_count": null,
   "metadata": {
    "collapsed": true
   },
   "outputs": [],
   "source": []
  },
  {
   "cell_type": "code",
   "execution_count": 35,
   "metadata": {
    "collapsed": false
   },
   "outputs": [],
   "source": [
    "data_dist_list = data_dist_2_center_normal(pca_data,diversity_label_list,center_list,num_kmean_class)"
   ]
  },
  {
   "cell_type": "code",
   "execution_count": null,
   "metadata": {
    "collapsed": true
   },
   "outputs": [],
   "source": []
  },
  {
   "cell_type": "code",
   "execution_count": null,
   "metadata": {
    "collapsed": true
   },
   "outputs": [],
   "source": []
  },
  {
   "cell_type": "code",
   "execution_count": 36,
   "metadata": {
    "collapsed": false
   },
   "outputs": [],
   "source": [
    "for j in xrange(num_deg):\n",
    "    for k in xrange(num_loops):\n",
    "        for i in xrange(N):\n",
    "            if(acc_list_rf_best_mean[j,k,i]!= 0):\n",
    "                temp = acc_list_rf_best_mean[j,k,i]\n",
    "            if(acc_list_rf_best_sum[j,k,i]!= 0):\n",
    "                temp = acc_list_rf_best_sum[j,k,i]\n",
    "                \n",
    "        for i in xrange(N):\n",
    "            if(acc_list_rf_best_mean[j,k,i] == 0):\n",
    "                acc_list_rf_best_mean[j,k,i] = temp\n",
    "            if(acc_list_rf_best_sum[j,k,i] == 0):\n",
    "                acc_list_rf_best_sum[j,k,i] = temp"
   ]
  },
  {
   "cell_type": "code",
   "execution_count": 61,
   "metadata": {
    "collapsed": false
   },
   "outputs": [
    {
     "data": {
      "text/plain": [
       "[<matplotlib.lines.Line2D at 0x1113cdf50>]"
      ]
     },
     "execution_count": 61,
     "metadata": {},
     "output_type": "execute_result"
    },
    {
     "data": {
      "image/png": "[encoded data removed]",
      "text/plain": [
       "<matplotlib.figure.Figure at 0x11127bb90>"
      ]
     },
     "metadata": {},
     "output_type": "display_data"
    }
   ],
   "source": [
    "plt.plot(time_cost_list_rf_best_sum[0].mean(axis=0).cumsum()*3.9,acc_list_rf_best_sum[0],label = \"FOV=0.5\", ls = \"-\", c=\"lime\",linewidth =2)\n",
    "plt.plot(time_cost_list_rf_best_sum[1].mean(axis=0).cumsum()*3.9,acc_list_rf_best_sum[1].mean(axis=0),label = \"FOV=0.5\", ls = \"--\", c=\"r\",linewidth =2)\n",
    "plt.plot(time_cost_list_rf_best_sum[2].mean(axis=0).cumsum()*3.9,acc_list_rf_best_sum[2].mean(axis=0),label = \"FOV=1\", ls = \"--\", c=\"b\",linewidth =2)\n",
    "plt.plot(time_cost_list_rf_best_mean[0].mean(axis=0).cumsum()*3.9,acc_list_rf_best_mean[0].mean(axis=0),label = \"FOV=1\", ls = \"-\", c=\"b\",linewidth =2)\n",
    "plt.plot(time_cost_list_rf_best_mean[1].mean(axis=0).cumsum()*3.9,acc_list_rf_best_mean[1].mean(axis=0),label = \"FOV=0.5\", ls = \"-\", c=\"r\",linewidth =2)\n",
    "plt.plot(time_cost_list_rf_best_mean[2].mean(axis=0).cumsum()*3.9,acc_list_rf_best_mean[2],label = \"FOV=1\", ls = \"--\", c=\"lime\",linewidth =2)\n",
    "\n"
   ]
  },
  {
   "cell_type": "code",
   "execution_count": null,
   "metadata": {
    "collapsed": true
   },
   "outputs": [],
   "source": []
  },
  {
   "cell_type": "code",
   "execution_count": null,
   "metadata": {
    "collapsed": true
   },
   "outputs": [],
   "source": []
  },
  {
   "cell_type": "code",
   "execution_count": null,
   "metadata": {
    "collapsed": true
   },
   "outputs": [],
   "source": []
  },
  {
   "cell_type": "code",
   "execution_count": null,
   "metadata": {
    "collapsed": true
   },
   "outputs": [],
   "source": []
  },
  {
   "cell_type": "code",
   "execution_count": null,
   "metadata": {
    "collapsed": true
   },
   "outputs": [],
   "source": []
  },
  {
   "cell_type": "code",
   "execution_count": null,
   "metadata": {
    "collapsed": true
   },
   "outputs": [],
   "source": []
  },
  {
   "cell_type": "code",
   "execution_count": null,
   "metadata": {
    "collapsed": true
   },
   "outputs": [],
   "source": []
  },
  {
   "cell_type": "code",
   "execution_count": null,
   "metadata": {
    "collapsed": true
   },
   "outputs": [],
   "source": []
  },
  {
   "cell_type": "code",
   "execution_count": null,
   "metadata": {
    "collapsed": true
   },
   "outputs": [],
   "source": []
  },
  {
   "cell_type": "code",
   "execution_count": null,
   "metadata": {
    "collapsed": true
   },
   "outputs": [],
   "source": []
  },
  {
   "cell_type": "code",
   "execution_count": null,
   "metadata": {
    "collapsed": true
   },
   "outputs": [],
   "source": []
  },
  {
   "cell_type": "code",
   "execution_count": null,
   "metadata": {
    "collapsed": true
   },
   "outputs": [],
   "source": []
  },
  {
   "cell_type": "code",
   "execution_count": null,
   "metadata": {
    "collapsed": true
   },
   "outputs": [],
   "source": []
  },
  {
   "cell_type": "code",
   "execution_count": null,
   "metadata": {
    "collapsed": true
   },
   "outputs": [],
   "source": []
  },
  {
   "cell_type": "code",
   "execution_count": null,
   "metadata": {
    "collapsed": true
   },
   "outputs": [],
   "source": []
  },
  {
   "cell_type": "code",
   "execution_count": 279,
   "metadata": {
    "collapsed": false
   },
   "outputs": [
    {
     "data": {
      "image/png": "[encoded data removed]",
      "text/plain": [
       "<matplotlib.figure.Figure at 0x12f943850>"
      ]
     },
     "metadata": {},
     "output_type": "display_data"
    }
   ],
   "source": [
    "plt.figure(figsize=(15,5))\n",
    "\n",
    "plt.subplot(1,2,1)\n",
    "CS=plt.contour(X,Y, Z,32,cmap=cm.coolwarm)\n",
    "plt.clabel(CS, inline=1, fontsize=10)\n",
    "\n",
    "plt.xlabel(\"telescope degree\")\n",
    "plt.ylabel(\"cumulative observation time\")\n",
    "plt.title(\"Contour plot of accuracy respect to time and degree\")\n",
    "plt.colorbar(CS)\n",
    "\n",
    "plt.subplot(1,2,2)\n",
    "CS=plt.contour(X,Y, Z,32,cmap=cm.coolwarm)\n",
    "plt.clabel(CS, inline=1, fontsize=10)\n",
    "plt.axhline(y=6, color = 'grey', ls = 'dashed',label = \"observation time budget = 20\")\n",
    "plt.axvline(x=0.8, color = 'grey', ls = '-.',label = \"available telescope degree = 20\")\n",
    "plt.colorbar(CS)\n",
    "\n",
    "plt.xlabel(\"telescope degree\")\n",
    "plt.ylabel(\"cumulative observation time\")\n",
    "plt.xlim([0,1])\n",
    "plt.legend(loc=1)\n",
    "plt.show()\n"
   ]
  }
 ],
 "metadata": {
  "kernelspec": {
   "display_name": "Python 2",
   "language": "python",
   "name": "python2"
  },
  "language_info": {
   "codemirror_mode": {
    "name": "ipython",
    "version": 2
   },
   "file_extension": ".py",
   "mimetype": "text/x-python",
   "name": "python",
   "nbconvert_exporter": "python",
   "pygments_lexer": "ipython2",
   "version": "2.7.11"
  }
 },
 "nbformat": 4,
 "nbformat_minor": 0
}
